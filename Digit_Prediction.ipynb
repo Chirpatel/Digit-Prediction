{
  "nbformat": 4,
  "nbformat_minor": 0,
  "metadata": {
    "colab": {
      "name": "Digit Prediction.ipynb",
      "provenance": [],
      "collapsed_sections": []
    },
    "kernelspec": {
      "name": "python3",
      "display_name": "Python 3"
    },
    "accelerator": "GPU"
  },
  "cells": [
    {
      "cell_type": "code",
      "metadata": {
        "id": "3hvnfKy6ZLt_",
        "colab_type": "code",
        "colab": {
          "base_uri": "https://localhost:8080/",
          "height": 135
        },
        "outputId": "3f64cc7b-9500-407b-b312-7226bbf812bf"
      },
      "source": [
        "from google.colab import drive\n",
        "drive.mount('/gdrive')\n",
        "%cd /gdrive"
      ],
      "execution_count": 1,
      "outputs": [
        {
          "output_type": "stream",
          "text": [
            "Go to this URL in a browser: https://accounts.google.com/o/oauth2/auth?client_id=947318989803-6bn6qk8qdgf4n4g3pfee6491hc0brc4i.apps.googleusercontent.com&redirect_uri=urn%3aietf%3awg%3aoauth%3a2.0%3aoob&response_type=code&scope=email%20https%3a%2f%2fwww.googleapis.com%2fauth%2fdocs.test%20https%3a%2f%2fwww.googleapis.com%2fauth%2fdrive%20https%3a%2f%2fwww.googleapis.com%2fauth%2fdrive.photos.readonly%20https%3a%2f%2fwww.googleapis.com%2fauth%2fpeopleapi.readonly\n",
            "\n",
            "Enter your authorization code:\n",
            "··········\n",
            "Mounted at /gdrive\n",
            "/gdrive\n"
          ],
          "name": "stdout"
        }
      ]
    },
    {
      "cell_type": "code",
      "metadata": {
        "id": "Ri0XWa7qZU_i",
        "colab_type": "code",
        "colab": {}
      },
      "source": [
        "cp  -r \"/gdrive/My Drive/Digit Prediction/myData.zip\" \"/content\""
      ],
      "execution_count": 0,
      "outputs": []
    },
    {
      "cell_type": "code",
      "metadata": {
        "id": "zn2JKxK4ZrmX",
        "colab_type": "code",
        "colab": {
          "base_uri": "https://localhost:8080/",
          "height": 4
        },
        "outputId": "a5d0a8e5-368d-4848-c4e4-0020e0ca408a"
      },
      "source": [
        "!unzip \"/content/myData\" -d /content"
      ],
      "execution_count": 3,
      "outputs": [
        {
          "output_type": "stream",
          "text": [
            "\u001b[1;30;43mStreaming output truncated to the last 5000 lines.\u001b[0m\n",
            
            " extracting: /content/myData/9/img010-01015.png  \n",
            " extracting: /content/myData/9/img010-01016.png  \n"
          ],
          "name": "stdout"
        }
      ]
    },
    {
      "cell_type": "code",
      "metadata": {
        "id": "YKrW_spqY1YB",
        "colab_type": "code",
        "colab": {
          "base_uri": "https://localhost:8080/",
          "height": 33
        },
        "outputId": "558c9cd3-b316-480c-c32c-f7c8713638fd"
      },
      "source": [
        "import numpy as np\n",
        "import cv2\n",
        "import os\n",
        "from sklearn.model_selection import train_test_split\n",
        "import matplotlib.pyplot as plt\n",
        "from keras.preprocessing.image import ImageDataGenerator\n",
        "from keras.utils.np_utils import to_categorical\n",
        "from keras.models import Sequential\n",
        "from keras.layers import Dense\n",
        "from keras.optimizers import Adam\n",
        "from keras.layers import Dropout,Flatten\n",
        "from keras.layers.convolutional import Conv2D,MaxPooling2D\n",
        "import pickle"
      ],
      "execution_count": 4,
      "outputs": [
        {
          "output_type": "stream",
          "text": [
            "Using TensorFlow backend.\n"
          ],
          "name": "stderr"
        }
      ]
    },
    {
      "cell_type": "code",
      "metadata": {
        "id": "sg5jse8LaTsV",
        "colab_type": "code",
        "colab": {}
      },
      "source": [
        "path =\"/content/myData\"\n",
        "test_ratio=0.2\n",
        "val_ratio=0.2\n",
        "image_size=(128,128,3)"
      ],
      "execution_count": 0,
      "outputs": []
    },
    {
      "cell_type": "code",
      "metadata": {
        "id": "ufsmf55TZBXQ",
        "colab_type": "code",
        "colab": {
          "base_uri": "https://localhost:8080/",
          "height": 33
        },
        "outputId": "221c8771-4532-4a94-90af-b1275d3addc1"
      },
      "source": [
        "myList = os.listdir(path)\n",
        "print(\"Total Number of Classes Detected :\",len(myList))"
      ],
      "execution_count": 6,
      "outputs": [
        {
          "output_type": "stream",
          "text": [
            "Total Number of Classes Detected : 10\n"
          ],
          "name": "stdout"
        }
      ]
    },
    {
      "cell_type": "code",
      "metadata": {
        "id": "VgP9cRUOag0E",
        "colab_type": "code",
        "colab": {}
      },
      "source": [
        "noOfclasses= len(myList)"
      ],
      "execution_count": 0,
      "outputs": []
    },
    {
      "cell_type": "code",
      "metadata": {
        "id": "Wvw3DcELc3mb",
        "colab_type": "code",
        "colab": {
          "base_uri": "https://localhost:8080/",
          "height": 33
        },
        "outputId": "034830fb-0e79-46c0-ecc5-f2b0e7598db5"
      },
      "source": [
        "print(\"Importing Classes...\")"
      ],
      "execution_count": 8,
      "outputs": [
        {
          "output_type": "stream",
          "text": [
            "Importing Classes...\n"
          ],
          "name": "stdout"
        }
      ]
    },
    {
      "cell_type": "code",
      "metadata": {
        "id": "iswB5dooam5A",
        "colab_type": "code",
        "colab": {
          "base_uri": "https://localhost:8080/",
          "height": 33
        },
        "outputId": "db66df86-8aab-44e3-eac9-99c871256d96"
      },
      "source": [
        "images=[]\n",
        "classNo=[]\n",
        "for x in range(0,noOfclasses):\n",
        "  myPicList = os.listdir(path+\"/\"+str(x))\n",
        "  for y in myPicList:\n",
        "    curImg = cv2.imread(path+\"/\"+str(x)+\"/\"+y)\n",
        "    curImg = cv2.resize(curImg,(image_size[0],image_size[1]))\n",
        "    images.append(curImg)\n",
        "    classNo.append(x)\n",
        "  print(x,end=\" \")"
      ],
      "execution_count": 9,
      "outputs": [
        {
          "output_type": "stream",
          "text": [
            "0 1 2 3 4 5 6 7 8 9 "
          ],
          "name": "stdout"
        }
      ]
    },
    {
      "cell_type": "code",
      "metadata": {
        "id": "Dp6l2OpNcJ3C",
        "colab_type": "code",
        "colab": {
          "base_uri": "https://localhost:8080/",
          "height": 50
        },
        "outputId": "bb5bf581-03e3-42ad-c092-866e78f92c5f"
      },
      "source": [
        "print(len(images))\n",
        "print(len(classNo))"
      ],
      "execution_count": 10,
      "outputs": [
        {
          "output_type": "stream",
          "text": [
            "10160\n",
            "10160\n"
          ],
          "name": "stdout"
        }
      ]
    },
    {
      "cell_type": "code",
      "metadata": {
        "id": "3n-hJ1LncPzA",
        "colab_type": "code",
        "colab": {}
      },
      "source": [
        "images = np.array(images)\n",
        "classNo = np.array(classNo)"
      ],
      "execution_count": 0,
      "outputs": []
    },
    {
      "cell_type": "code",
      "metadata": {
        "id": "0XyweeVLdFgX",
        "colab_type": "code",
        "colab": {
          "base_uri": "https://localhost:8080/",
          "height": 50
        },
        "outputId": "1a9fbf5a-7392-4934-cc4e-09b0440e1c42"
      },
      "source": [
        "print(images.shape)\n",
        "print(classNo.shape)"
      ],
      "execution_count": 12,
      "outputs": [
        {
          "output_type": "stream",
          "text": [
            "(10160, 128, 128, 3)\n",
            "(10160,)\n"
          ],
          "name": "stdout"
        }
      ]
    },
    {
      "cell_type": "markdown",
      "metadata": {
        "id": "KD6ZQVFAdqSU",
        "colab_type": "text"
      },
      "source": [
        "#Spliting Data"
      ]
    },
    {
      "cell_type": "code",
      "metadata": {
        "id": "XouWTr72dJS5",
        "colab_type": "code",
        "colab": {}
      },
      "source": [
        "x_train,x_test,y_train,y_test = train_test_split(images,classNo,test_size=test_ratio)\n",
        "x_train,x_validation,y_train,y_validation = train_test_split(x_train,y_train,test_size=val_ratio)"
      ],
      "execution_count": 0,
      "outputs": []
    },
    {
      "cell_type": "code",
      "metadata": {
        "id": "qyBxyh4VePnT",
        "colab_type": "code",
        "colab": {
          "base_uri": "https://localhost:8080/",
          "height": 66
        },
        "outputId": "fcb2e814-3e13-4048-e777-96bec79f3b0d"
      },
      "source": [
        "print(x_train.shape)\n",
        "print(x_test.shape)\n",
        "print(x_validation.shape)"
      ],
      "execution_count": 14,
      "outputs": [
        {
          "output_type": "stream",
          "text": [
            "(6502, 128, 128, 3)\n",
            "(2032, 128, 128, 3)\n",
            "(1626, 128, 128, 3)\n"
          ],
          "name": "stdout"
        }
      ]
    },
    {
      "cell_type": "code",
      "metadata": {
        "id": "eWKx2tAMeS_c",
        "colab_type": "code",
        "colab": {}
      },
      "source": [
        "numofSamples=[]\n",
        "for x in range(0,noOfclasses):\n",
        "  numofSamples.append(len(np.where(y_train==x)[0]))"
      ],
      "execution_count": 0,
      "outputs": []
    },
    {
      "cell_type": "code",
      "metadata": {
        "id": "NnjhhsLafRE8",
        "colab_type": "code",
        "colab": {
          "base_uri": "https://localhost:8080/",
          "height": 33
        },
        "outputId": "48b0b722-7f63-4a4e-afee-25ea4a3846e8"
      },
      "source": [
        "print(numofSamples)"
      ],
      "execution_count": 16,
      "outputs": [
        {
          "output_type": "stream",
          "text": [
            "[643, 638, 659, 645, 653, 660, 650, 648, 633, 673]\n"
          ],
          "name": "stdout"
        }
      ]
    },
    {
      "cell_type": "code",
      "metadata": {
        "id": "H1TX7WEegBq9",
        "colab_type": "code",
        "colab": {
          "base_uri": "https://localhost:8080/",
          "height": 350
        },
        "outputId": "1c83beb9-7ac1-420b-acce-8edfd9ecca9b"
      },
      "source": [
        "plt.figure(figsize=(10,5))\n",
        "plt.bar(range(0,noOfclasses),numofSamples)\n",
        "plt.title('No of Images for each Class')\n",
        "plt.xlabel(\"Class ID\")\n",
        "plt.ylabel(\"No of Images\")\n",
        "plt.show()"
      ],
      "execution_count": 17,
      "outputs": [
        {
          "output_type": "display_data",
          "data": {
            "image/png": "[encoded data removed]",
            "text/plain": [
              "<Figure size 720x360 with 1 Axes>"
            ]
          },
          "metadata": {
            "tags": [],
            "needs_background": "light"
          }
        }
      ]
    },
    {
      "cell_type": "code",
      "metadata": {
        "id": "kr4hHdmwggNM",
        "colab_type": "code",
        "colab": {}
      },
      "source": [
        "def preProcessing(img):\n",
        "    img = cv2.cvtColor(img,cv2.COLOR_BGR2GRAY)\n",
        "    img = cv2.equalizeHist(img)\n",
        "    img = img/.255\n",
        "    return img"
      ],
      "execution_count": 0,
      "outputs": []
    },
    {
      "cell_type": "code",
      "metadata": {
        "id": "xQsYnvnYg_-7",
        "colab_type": "code",
        "colab": {
          "base_uri": "https://localhost:8080/",
          "height": 650
        },
        "outputId": "46c1a02b-9f53-4867-a921-5c898b2c7750"
      },
      "source": [
        "from google.colab.patches import cv2_imshow\n",
        "img = preProcessing(x_train[0])\n",
        "img = cv2.resize(img,(300,300))\n",
        "print(\"Before Preprocess\")\n",
        "cv2_imshow(cv2.resize(x_train[0],(300,300)))\n",
        "print(\"Preprocessed Image\")\n",
        "cv2_imshow(img)\n",
        "#cv2.waitKey(0)"
      ],
      "execution_count": 19,
      "outputs": [
        {
          "output_type": "stream",
          "text": [
            "Before Preprocess\n"
          ],
          "name": "stdout"
        },
        {
          "output_type": "display_data",
          "data": {
            "image/png": "[encoded data removed]",
            "text/plain": [
              "<PIL.Image.Image image mode=RGB size=300x300 at 0x7FB957147048>"
            ]
          },
          "metadata": {
            "tags": []
          }
        },
        {
          "output_type": "stream",
          "text": [
            "Preprocessed Image\n"
          ],
          "name": "stdout"
        },
        {
          "output_type": "display_data",
          "data": {
            "image/png": "[encoded data removed]",
            "text/plain": [
              "<PIL.Image.Image image mode=L size=300x300 at 0x7FB957147DA0>"
            ]
          },
          "metadata": {
            "tags": []
          }
        }
      ]
    },
    {
      "cell_type": "code",
      "metadata": {
        "id": "9LfR2cO_hRqB",
        "colab_type": "code",
        "colab": {
          "base_uri": "https://localhost:8080/",
          "height": 50
        },
        "outputId": "68cceafe-18d0-4574-c797-fdb859cf3f33"
      },
      "source": [
        "print(x_train[0].shape)\n",
        "x_train = np.array(list(map(preProcessing,x_train)))\n",
        "print(x_train[0].shape)"
      ],
      "execution_count": 20,
      "outputs": [
        {
          "output_type": "stream",
          "text": [
            "(128, 128, 3)\n",
            "(128, 128)\n"
          ],
          "name": "stdout"
        }
      ]
    },
    {
      "cell_type": "code",
      "metadata": {
        "id": "Zt-I8_81jfzy",
        "colab_type": "code",
        "colab": {
          "base_uri": "https://localhost:8080/",
          "height": 50
        },
        "outputId": "6c5cab3a-1244-4086-eba7-0c8d83dc8eaa"
      },
      "source": [
        "print(x_test[0].shape)\n",
        "x_test = np.array(list(map(preProcessing,x_test)))\n",
        "print(x_test[0].shape)"
      ],
      "execution_count": 21,
      "outputs": [
        {
          "output_type": "stream",
          "text": [
            "(128, 128, 3)\n",
            "(128, 128)\n"
          ],
          "name": "stdout"
        }
      ]
    },
    {
      "cell_type": "code",
      "metadata": {
        "id": "4moPaF5Fj1M9",
        "colab_type": "code",
        "colab": {
          "base_uri": "https://localhost:8080/",
          "height": 50
        },
        "outputId": "e04a5702-5964-4013-afde-31c1340ce1ca"
      },
      "source": [
        "print(x_validation[0].shape)\n",
        "x_validation = np.array(list(map(preProcessing,x_validation)))\n",
        "print(x_validation[0].shape)"
      ],
      "execution_count": 22,
      "outputs": [
        {
          "output_type": "stream",
          "text": [
            "(128, 128, 3)\n",
            "(128, 128)\n"
          ],
          "name": "stdout"
        }
      ]
    },
    {
      "cell_type": "code",
      "metadata": {
        "id": "pIBGxzWpjTsj",
        "colab_type": "code",
        "colab": {
          "base_uri": "https://localhost:8080/",
          "height": 333
        },
        "outputId": "7e951c31-dbce-4e8e-b81a-718a101633f8"
      },
      "source": [
        "from google.colab.patches import cv2_imshow\n",
        "cv2_imshow(cv2.resize(x_train[0],(300,300)))\n",
        "print(\"Preprocessed Image\")\n",
        "\n",
        "#cv2.waitKey(0)"
      ],
      "execution_count": 23,
      "outputs": [
        {
          "output_type": "display_data",
          "data": {
            "image/png": "[encoded data removed]",
            "text/plain": [
              "<PIL.Image.Image image mode=L size=300x300 at 0x7FB957134AC8>"
            ]
          },
          "metadata": {
            "tags": []
          }
        },
        {
          "output_type": "stream",
          "text": [
            "Preprocessed Image\n"
          ],
          "name": "stdout"
        }
      ]
    },
    {
      "cell_type": "code",
      "metadata": {
        "id": "Sd269Dmgj8r-",
        "colab_type": "code",
        "colab": {
          "base_uri": "https://localhost:8080/",
          "height": 50
        },
        "outputId": "6c124a32-b743-488e-ea80-679078a85742"
      },
      "source": [
        "print(x_train.shape)\n",
        "x_train = x_train.reshape(x_train.shape[0],x_train.shape[1],x_train.shape[2],1)\n",
        "print(x_train.shape)"
      ],
      "execution_count": 24,
      "outputs": [
        {
          "output_type": "stream",
          "text": [
            "(6502, 128, 128)\n",
            "(6502, 128, 128, 1)\n"
          ],
          "name": "stdout"
        }
      ]
    },
    {
      "cell_type": "code",
      "metadata": {
        "id": "jIxkFBAAkaui",
        "colab_type": "code",
        "colab": {}
      },
      "source": [
        "x_test = x_test.reshape(x_test.shape[0],x_test.shape[1],x_test.shape[2],1)\n",
        "x_validation = x_validation.reshape(x_validation.shape[0],x_validation.shape[1],x_validation.shape[2],1)"
      ],
      "execution_count": 0,
      "outputs": []
    },
    {
      "cell_type": "code",
      "metadata": {
        "id": "kuVQlY9KkpTm",
        "colab_type": "code",
        "colab": {}
      },
      "source": [
        "dataGen = ImageDataGenerator(width_shift_range=0.1,\n",
        "                             height_shift_range=0.1,\n",
        "                             zoom_range=0.2,\n",
        "                             shear_range=0.1,\n",
        "                             rotation_range=10)"
      ],
      "execution_count": 0,
      "outputs": []
    },
    {
      "cell_type": "code",
      "metadata": {
        "id": "RW0SSljMlNbm",
        "colab_type": "code",
        "colab": {}
      },
      "source": [
        "dataGen.fit(x_train)\n"
      ],
      "execution_count": 0,
      "outputs": []
    },
    {
      "cell_type": "code",
      "metadata": {
        "id": "IWSorGCHlbmh",
        "colab_type": "code",
        "colab": {}
      },
      "source": [
        "y_train = to_categorical(y_train,noOfclasses)\n",
        "y_test = to_categorical(y_test,noOfclasses)\n",
        "y_validation = to_categorical(y_validation,noOfclasses)"
      ],
      "execution_count": 0,
      "outputs": []
    },
    {
      "cell_type": "code",
      "metadata": {
        "id": "MTiQqVUACoDe",
        "colab_type": "code",
        "colab": {}
      },
      "source": [
        "def model():\n",
        "  filters=60\n",
        "  sizeoffilter1 = (5,5)\n",
        "  sizeoffilter2 = (3,3)\n",
        "  sizeofpool = (2,2)\n",
        "  node=500\n",
        "\n",
        "  model = Sequential();\n",
        "  model.add((Conv2D(filters,sizeoffilter1,input_shape=(image_size[0],image_size[1],1)\n",
        "  ,activation=\"relu\")))\n",
        "\n",
        "  model.add((Conv2D(filters,sizeoffilter1,activation=\"relu\")))\n",
        "  model.add(MaxPooling2D(pool_size=sizeofpool))\n",
        "  model.add((Conv2D(filters//2,sizeoffilter2,activation=\"relu\")))\n",
        "  model.add((Conv2D(filters//2,sizeoffilter2,activation=\"relu\")))\n",
        "  model.add(MaxPooling2D(pool_size=sizeofpool))\n",
        "  model.add(Dropout(0.5))\n",
        "\n",
        "  model.add(Flatten())\n",
        "  model.add(Dense(node,activation=\"relu\"))\n",
        "  model.add(Dropout(0.5))\n",
        "  model.add(Dense(noOfclasses,activation=\"softmax\"))\n",
        "\n",
        "  model.compile(Adam(lr=0.001),loss=\"categorical_crossentropy\",metrics=['accuracy'])\n",
        "\n",
        "  return model"
      ],
      "execution_count": 0,
      "outputs": []
    },
    {
      "cell_type": "code",
      "metadata": {
        "id": "sNS7TRfjCyhp",
        "colab_type": "code",
        "colab": {}
      },
      "source": [
        "model=model()"
      ],
      "execution_count": 0,
      "outputs": []
    },
    {
      "cell_type": "code",
      "metadata": {
        "id": "wou70iF8oB70",
        "colab_type": "code",
        "colab": {
          "base_uri": "https://localhost:8080/",
          "height": 505
        },
        "outputId": "ebd7b5e0-2ab4-45da-a0d5-e888137b9ce7"
      },
      "source": [
        "model.summary()"
      ],
      "execution_count": 33,
      "outputs": [
        {
          "output_type": "stream",
          "text": [
            "Model: \"sequential_1\"\n",
            "_________________________________________________________________\n",
            "Layer (type)                 Output Shape              Param #   \n",
            "=================================================================\n",
            "conv2d_1 (Conv2D)            (None, 124, 124, 60)      1560      \n",
            "_________________________________________________________________\n",
            "conv2d_2 (Conv2D)            (None, 120, 120, 60)      90060     \n",
            "_________________________________________________________________\n",
            "max_pooling2d_1 (MaxPooling2 (None, 60, 60, 60)        0         \n",
            "_________________________________________________________________\n",
            "conv2d_3 (Conv2D)            (None, 58, 58, 30)        16230     \n",
            "_________________________________________________________________\n",
            "conv2d_4 (Conv2D)            (None, 56, 56, 30)        8130      \n",
            "_________________________________________________________________\n",
            "max_pooling2d_2 (MaxPooling2 (None, 28, 28, 30)        0         \n",
            "_________________________________________________________________\n",
            "dropout_1 (Dropout)          (None, 28, 28, 30)        0         \n",
            "_________________________________________________________________\n",
            "flatten_1 (Flatten)          (None, 23520)             0         \n",
            "_________________________________________________________________\n",
            "dense_1 (Dense)              (None, 500)               11760500  \n",
            "_________________________________________________________________\n",
            "dropout_2 (Dropout)          (None, 500)               0         \n",
            "_________________________________________________________________\n",
            "dense_2 (Dense)              (None, 10)                5010      \n",
            "=================================================================\n",
            "Total params: 11,881,490\n",
            "Trainable params: 11,881,490\n",
            "Non-trainable params: 0\n",
            "_________________________________________________________________\n"
          ],
          "name": "stdout"
        }
      ]
    },
    {
      "cell_type": "code",
      "metadata": {
        "id": "whI_sq_1uQt4",
        "colab_type": "code",
        "colab": {}
      },
      "source": [
        "os.environ[\"CUDA_VISIBLE_DEVICES\"]=\"3\""
      ],
      "execution_count": 0,
      "outputs": []
    },
    {
      "cell_type": "code",
      "metadata": {
        "id": "vhLbO3bIoOaX",
        "colab_type": "code",
        "colab": {}
      },
      "source": [
        "batchsize=256\n",
        "epochs=30\n",
        "stepsperepoch= 2000\n",
        "history = model.fit_generator(dataGen.flow(x_train,y_train,batch_size=batchsize),\n",
        "                    steps_per_epoch=stepsperepoch,\n",
        "                    epochs=epochs,\n",
        "                    validation_data = (x_validation,y_validation),\n",
        "                    shuffle=1)"
      ],
      "execution_count": 0,
      "outputs": []
    },
    {
      "cell_type": "code",
      "metadata": {
        "id": "l7UURWLipLNu",
        "colab_type": "code",
        "colab": {}
      },
      "source": [
        "plt.figure(1)\n",
        "plt.plot(history.history['loss'])\n",
        "plt.plot(history.history['val_loss'])\n",
        "plt.legend(['training','validation'])\n",
        "plt.title('Loss')\n",
        "plt.xlabel('epoch')\n",
        "plt.figure(2)\n",
        "plt.plot(history.history['accuracy'])\n",
        "plt.plot(history.history['val_accuracy'])\n",
        "plt.legend(['training','validation'])\n",
        "plt.title('Accuracy')\n",
        "plt.xlabel('epoch')\n",
        "plt.show()\n"
      ],
      "execution_count": 0,
      "outputs": []
    },
    {
      "cell_type": "code",
      "metadata": {
        "id": "FLM0qqM0qIXr",
        "colab_type": "code",
        "colab": {}
      },
      "source": [
        "score = model.evaluate(x_test,y_test,verbose=0)\n",
        "print('Test Score = ',score[0])\n",
        "print('Test Accuracy = ',score[1])"
      ],
      "execution_count": 0,
      "outputs": []
    },
    {
      "cell_type": "code",
      "metadata": {
        "id": "W2jsX4DLqtjN",
        "colab_type": "code",
        "colab": {}
      },
      "source": [
        "model.save('/gdrive/My Drive/Digit Prediction/model_trained30.model')"
      ],
      "execution_count": 0,
      "outputs": []
    },
    {
      "cell_type": "code",
      "metadata": {
        "id": "lDoLzGMIrG1T",
        "colab_type": "code",
        "colab": {}
      },
      "source": [
        "cp  -r \"/gdrive/My Drive/Digit Prediction/model_trained30.model\" \"/content\""
      ],
      "execution_count": 0,
      "outputs": []
    },
    {
      "cell_type": "code",
      "metadata": {
        "id": "ETbJB59Br6Bv",
        "colab_type": "code",
        "colab": {}
      },
      "source": [
        "out=open(\"/content/model_trained30.p\",\"wb\")\n",
        "pickle.dump(model,out)\n",
        "out.close()"
      ],
      "execution_count": 0,
      "outputs": []
    },
    {
      "cell_type": "code",
      "metadata": {
        "id": "0eXQQuv0wlQt",
        "colab_type": "code",
        "colab": {}
      },
      "source": [
        ""
      ],
      "execution_count": 0,
      "outputs": []
    },
    {
      "cell_type": "code",
      "metadata": {
        "id": "iL93cKoU_9ZI",
        "colab_type": "code",
        "colab": {}
      },
      "source": [
        "\n",
        "\n",
        "'''\n",
        "## Camera Capture\n",
        "Using a webcam to capture images for processing on the runtime.\n",
        "Source: https://colab.research.google.com/notebooks/snippets/advanced_outputs.ipynb#scrollTo=2viqYx97hPMi\n",
        "'''\n",
        "\n",
        "from IPython.display import display, Javascript\n",
        "from google.colab.output import eval_js\n",
        "from base64 import b64decode\n",
        "\n",
        "def take_photo(filename='photo.jpg', quality=1):\n",
        "  js = Javascript('''\n",
        "    async function takePhoto(quality) {\n",
        "\n",
        "\n",
        "      const div = document.createElement('div');\n",
        "      \n",
        "      // show the video in the HTML element\n",
        "      document.body.appendChild(div);\n",
        "      \n",
        "      const canvas = document.createElement('canvas');\n",
        "      div.appendChild(canvas);\n",
        "      const ctx = canvas.getContext('2d');\n",
        "      \n",
        "      canvas.style=\"border:5px solid black;\"\n",
        "      canvas.height = 280;\n",
        "      canvas.width  = 280;\n",
        "      ctx.fillStyle = 'green';\n",
        "      ctx.fillRect(0, 0, canvas.width, canvas.height);\n",
        "\n",
        "      let painting =false;\n",
        "      function startPosition(e){\n",
        "          painting=true;\n",
        "          draw(e);\n",
        "      }\n",
        "      function finishedPosition(){\n",
        "          painting = false;\n",
        "          ctx.beginPath();\n",
        "      }\n",
        "      function draw(e){\n",
        "          if(!painting) return;\n",
        "          ctx.lineWidth=10;\n",
        "          ctx.lineCap - \"round\";\n",
        "          ctx.lineTo(e.clientX,e.clientY);\n",
        "          ctx.stroke();\n",
        "          /*ctx.beginPath();\n",
        "          ctx.moveTo(e.clientX,e.clientY);*/\n",
        "      }\n",
        "      canvas.addEventListener(\"mousedown\",startPosition);\n",
        "      canvas.addEventListener(\"mouseup\",finishedPosition);\n",
        "      canvas.addEventListener(\"mousemove\",draw);\n",
        "      function predict(){\n",
        "        print(\"called\")\n",
        "        img = canvas.toDataURL();\n",
        "        google.colab.kernel.invokeFunction('notebook.run_algo', [img], {});\n",
        "      }\n",
        "      const submit =  document.createElement('Button');\n",
        "      submit.innerText=\"Submit\";\n",
        "      submit.onClick=\"predict()\";\n",
        "      submit.addEventListener(\"click\",predict);\n",
        "      div.appendChild(submit);\n",
        "    }\n",
        "    ''')\n",
        "  display(js) # make the provided HTML, part of the cell\n",
        "  data = eval_js('takePhoto({})'.format(quality)) # call the takePhoto() JavaScript function"
      ],
      "execution_count": 0,
      "outputs": []
    },
    {
      "cell_type": "code",
      "metadata": {
        "id": "SPQOpAl-xBs0",
        "colab_type": "code",
        "colab": {
          "base_uri": "https://localhost:8080/",
          "height": 33
        },
        "outputId": "dcf26c84-452d-4196-b439-bc01f4bc7017"
      },
      "source": [
        "import IPython\n",
        "from google.colab import output\n",
        "from google.colab.patches import cv2_imshow\n",
        "import io\n",
        "import time\n",
        "import sys\n",
        "import numpy as np\n",
        "import cv2\n",
        "import keras\n",
        "from PIL import Image\n",
        "from io import BytesIO\n",
        "import base64\n",
        "import logging\n",
        "from skimage.io import imread\n",
        "from skimage.transform import resize\n",
        "\n",
        "def data_uri_to_img(uri):\n",
        "  \"\"\"convert base64image to numpy array\"\"\"\n",
        "  try:\n",
        "    image = base64.b64decode(uri.split(',')[1], validate=True)\n",
        "    # make the binary image, a PIL image\n",
        "    image = Image.open(BytesIO(image))\n",
        "    # convert to numpy array\n",
        "    image = np.array(image); \n",
        "    return image\n",
        "\n",
        "    decoded = base64.b64decode(uri.split(',')[1], validate=True)\n",
        "    bytesio=io.BytesIO(decoded)\n",
        "    filename=\"/content/test.png\"\n",
        "    with open(filename, \"wb\") as outfile:\n",
        "        outfile.write(bytesio.getbuffer())\n",
        "  except Exception as e:\n",
        "    logging.exception(e);print('\\n')\n",
        "    return None\n",
        "\n",
        "def preProcessing(img):\n",
        "    img = np.array(img, dtype=np.uint8)\n",
        "    img = cv2.cvtColor(img,cv2.COLOR_BGR2GRAY)\n",
        "    img = cv2.equalizeHist(img)\n",
        "    img = img/.255\n",
        "    return img\n",
        "model = keras.models.load_model(\"/content/model_trained30.model\")\n",
        "print(\" * Model Loded!\")\n",
        "\n",
        "def run_algo(imgB64):\n",
        "  \"\"\"\n",
        "  in Colab, run_algo function gets invoked by the JavaScript, that sends N images every second\n",
        "\n",
        "  params:\n",
        "    image: image\n",
        "  \"\"\"\n",
        "  image = data_uri_to_img(imgB64)  \n",
        "  if image is None:\n",
        "    print(\"At run_algo(): image is None.\")\n",
        "    return\n",
        "\n",
        "  try:\n",
        "    img = np.asarray(image)\n",
        "    img.astype(np.float32)\n",
        "    img = cv2.resize(img,(128,128))\n",
        "    #cv2_imshow(img)\n",
        "    img = preProcessing(img)\n",
        "    cv2_imshow(img)\n",
        "    #print(img.shape)\n",
        "    img = img.reshape(1,128,128,1)\n",
        "    classIndex = int(model.predict_classes(img))\n",
        "    #print(classIndex)\n",
        "    predictions = model.predict(img)\n",
        "    #print(predictions)\n",
        "    probVal= np.amax(predictions)\n",
        "    print(classIndex,probVal)\n",
        "  except Exception as e:\n",
        "    logging.exception(e)\n",
        "    print('.........\\n')\n",
        "\n",
        "# register this function, so JS code could call this\n",
        "output.register_callback('notebook.run_algo', run_algo)\n",
        "\n",
        "# put the JS code in cell and run it\n",
        "#take_photo()"
      ],
      "execution_count": 37,
      "outputs": [
        {
          "output_type": "stream",
          "text": [
            " * Model Loded!\n"
          ],
          "name": "stdout"
        }
      ]
    },
    {
      "cell_type": "code",
      "metadata": {
        "id": "237XIh3ZDKlx",
        "colab_type": "code",
        "colab": {
          "base_uri": "https://localhost:8080/",
          "height": 456
        },
        "outputId": "5bc5edb1-e3a7-4ac6-81b5-5676d209644c"
      },
      "source": [
        "take_photo()"
      ],
      "execution_count": 40,
      "outputs": [
        {
          "output_type": "display_data",
          "data": {
            "application/javascript": [
              "\n",
              "    async function takePhoto(quality) {\n",
              "\n",
              "\n",
              "      const div = document.createElement('div');\n",
              "      \n",
              "      // show the video in the HTML element\n",
              "      document.body.appendChild(div);\n",
              "      \n",
              "      const canvas = document.createElement('canvas');\n",
              "      div.appendChild(canvas);\n",
              "      const ctx = canvas.getContext('2d');\n",
              "      \n",
              "      canvas.style=\"border:5px solid black;\"\n",
              "      canvas.height = 280;\n",
              "      canvas.width  = 280;\n",
              "      ctx.fillStyle = 'green';\n",
              "      ctx.fillRect(0, 0, canvas.width, canvas.height);\n",
              "\n",
              "      let painting =false;\n",
              "      function startPosition(e){\n",
              "          painting=true;\n",
              "          draw(e);\n",
              "      }\n",
              "      function finishedPosition(){\n",
              "          painting = false;\n",
              "          ctx.beginPath();\n",
              "      }\n",
              "      function draw(e){\n",
              "          if(!painting) return;\n",
              "          ctx.lineWidth=10;\n",
              "          ctx.lineCap - \"round\";\n",
              "          ctx.lineTo(e.clientX,e.clientY);\n",
              "          ctx.stroke();\n",
              "          /*ctx.beginPath();\n",
              "          ctx.moveTo(e.clientX,e.clientY);*/\n",
              "      }\n",
              "      canvas.addEventListener(\"mousedown\",startPosition);\n",
              "      canvas.addEventListener(\"mouseup\",finishedPosition);\n",
              "      canvas.addEventListener(\"mousemove\",draw);\n",
              "      function predict(){\n",
              "        print(\"called\")\n",
              "        img = canvas.toDataURL();\n",
              "        google.colab.kernel.invokeFunction('notebook.run_algo', [img], {});\n",
              "      }\n",
              "      const submit =  document.createElement('Button');\n",
              "      submit.innerText=\"Submit\";\n",
              "      submit.onClick=\"predict()\";\n",
              "      submit.addEventListener(\"click\",predict);\n",
              "      div.appendChild(submit);\n",
              "    }\n",
              "    "
            ],
            "text/plain": [
              "<IPython.core.display.Javascript object>"
            ]
          },
          "metadata": {
            "tags": []
          }
        },
        {
          "output_type": "display_data",
          "data": {
            "image/png": "[encoded data removed]",
            "text/plain": [
              "<PIL.Image.Image image mode=L size=128x128 at 0x7FB527E9B438>"
            ]
          },
          "metadata": {
            "tags": []
          }
        },
        {
          "output_type": "stream",
          "text": [
            "0 0.9999999\n"
          ],
          "name": "stdout"
        }
      ]
    },
    {
      "cell_type": "code",
      "metadata": {
        "id": "oyph6WUDAj3d",
        "colab_type": "code",
        "colab": {
          "base_uri": "https://localhost:8080/",
          "height": 456
        },
        "outputId": "efa6234e-dc73-4179-bb36-a952958bcaf3"
      },
      "source": [
        "take_photo()"
      ],
      "execution_count": 41,
      "outputs": [
        {
          "output_type": "display_data",
          "data": {
            "application/javascript": [
              "\n",
              "    async function takePhoto(quality) {\n",
              "\n",
              "\n",
              "      const div = document.createElement('div');\n",
              "      \n",
              "      // show the video in the HTML element\n",
              "      document.body.appendChild(div);\n",
              "      \n",
              "      const canvas = document.createElement('canvas');\n",
              "      div.appendChild(canvas);\n",
              "      const ctx = canvas.getContext('2d');\n",
              "      \n",
              "      canvas.style=\"border:5px solid black;\"\n",
              "      canvas.height = 280;\n",
              "      canvas.width  = 280;\n",
              "      ctx.fillStyle = 'green';\n",
              "      ctx.fillRect(0, 0, canvas.width, canvas.height);\n",
              "\n",
              "      let painting =false;\n",
              "      function startPosition(e){\n",
              "          painting=true;\n",
              "          draw(e);\n",
              "      }\n",
              "      function finishedPosition(){\n",
              "          painting = false;\n",
              "          ctx.beginPath();\n",
              "      }\n",
              "      function draw(e){\n",
              "          if(!painting) return;\n",
              "          ctx.lineWidth=10;\n",
              "          ctx.lineCap - \"round\";\n",
              "          ctx.lineTo(e.clientX,e.clientY);\n",
              "          ctx.stroke();\n",
              "          /*ctx.beginPath();\n",
              "          ctx.moveTo(e.clientX,e.clientY);*/\n",
              "      }\n",
              "      canvas.addEventListener(\"mousedown\",startPosition);\n",
              "      canvas.addEventListener(\"mouseup\",finishedPosition);\n",
              "      canvas.addEventListener(\"mousemove\",draw);\n",
              "      function predict(){\n",
              "        print(\"called\")\n",
              "        img = canvas.toDataURL();\n",
              "        google.colab.kernel.invokeFunction('notebook.run_algo', [img], {});\n",
              "      }\n",
              "      const submit =  document.createElement('Button');\n",
              "      submit.innerText=\"Submit\";\n",
              "      submit.onClick=\"predict()\";\n",
              "      submit.addEventListener(\"click\",predict);\n",
              "      div.appendChild(submit);\n",
              "    }\n",
              "    "
            ],
            "text/plain": [
              "<IPython.core.display.Javascript object>"
            ]
          },
          "metadata": {
            "tags": []
          }
        },
        {
          "output_type": "display_data",
          "data": {
            "image/png": "[encoded data removed]",
            "text/plain": [
              "<PIL.Image.Image image mode=L size=128x128 at 0x7FB8FA596F98>"
            ]
          },
          "metadata": {
            "tags": []
          }
        },
        {
          "output_type": "stream",
          "text": [
            "1 1.0\n"
          ],
          "name": "stdout"
        }
      ]
    },
    {
      "cell_type": "code",
      "metadata": {
        "id": "DhdGk4oYDMZm",
        "colab_type": "code",
        "colab": {
          "base_uri": "https://localhost:8080/",
          "height": 456
        },
        "outputId": "c1c6382a-a50d-4e5a-9d5f-d27e4c914a4d"
      },
      "source": [
        "take_photo()"
      ],
      "execution_count": 42,
      "outputs": [
        {
          "output_type": "display_data",
          "data": {
            "application/javascript": [
              "\n",
              "    async function takePhoto(quality) {\n",
              "\n",
              "\n",
              "      const div = document.createElement('div');\n",
              "      \n",
              "      // show the video in the HTML element\n",
              "      document.body.appendChild(div);\n",
              "      \n",
              "      const canvas = document.createElement('canvas');\n",
              "      div.appendChild(canvas);\n",
              "      const ctx = canvas.getContext('2d');\n",
              "      \n",
              "      canvas.style=\"border:5px solid black;\"\n",
              "      canvas.height = 280;\n",
              "      canvas.width  = 280;\n",
              "      ctx.fillStyle = 'green';\n",
              "      ctx.fillRect(0, 0, canvas.width, canvas.height);\n",
              "\n",
              "      let painting =false;\n",
              "      function startPosition(e){\n",
              "          painting=true;\n",
              "          draw(e);\n",
              "      }\n",
              "      function finishedPosition(){\n",
              "          painting = false;\n",
              "          ctx.beginPath();\n",
              "      }\n",
              "      function draw(e){\n",
              "          if(!painting) return;\n",
              "          ctx.lineWidth=10;\n",
              "          ctx.lineCap - \"round\";\n",
              "          ctx.lineTo(e.clientX,e.clientY);\n",
              "          ctx.stroke();\n",
              "          /*ctx.beginPath();\n",
              "          ctx.moveTo(e.clientX,e.clientY);*/\n",
              "      }\n",
              "      canvas.addEventListener(\"mousedown\",startPosition);\n",
              "      canvas.addEventListener(\"mouseup\",finishedPosition);\n",
              "      canvas.addEventListener(\"mousemove\",draw);\n",
              "      function predict(){\n",
              "        print(\"called\")\n",
              "        img = canvas.toDataURL();\n",
              "        google.colab.kernel.invokeFunction('notebook.run_algo', [img], {});\n",
              "      }\n",
              "      const submit =  document.createElement('Button');\n",
              "      submit.innerText=\"Submit\";\n",
              "      submit.onClick=\"predict()\";\n",
              "      submit.addEventListener(\"click\",predict);\n",
              "      div.appendChild(submit);\n",
              "    }\n",
              "    "
            ],
            "text/plain": [
              "<IPython.core.display.Javascript object>"
            ]
          },
          "metadata": {
            "tags": []
          }
        },
        {
          "output_type": "display_data",
          "data": {
            "image/png": "[encoded data removed]",
            "text/plain": [
              "<PIL.Image.Image image mode=L size=128x128 at 0x7FB527E9D7F0>"
            ]
          },
          "metadata": {
            "tags": []
          }
        },
        {
          "output_type": "stream",
          "text": [
            "2 0.9999008\n"
          ],
          "name": "stdout"
        }
      ]
    },
    {
      "cell_type": "code",
      "metadata": {
        "id": "8p_O_iOVDP1C",
        "colab_type": "code",
        "colab": {
          "base_uri": "https://localhost:8080/",
          "height": 456
        },
        "outputId": "095af764-1b4c-4765-fd2f-c8b6e7a81b9a"
      },
      "source": [
        "take_photo()"
      ],
      "execution_count": 43,
      "outputs": [
        {
          "output_type": "display_data",
          "data": {
            "application/javascript": [
              "\n",
              "    async function takePhoto(quality) {\n",
              "\n",
              "\n",
              "      const div = document.createElement('div');\n",
              "      \n",
              "      // show the video in the HTML element\n",
              "      document.body.appendChild(div);\n",
              "      \n",
              "      const canvas = document.createElement('canvas');\n",
              "      div.appendChild(canvas);\n",
              "      const ctx = canvas.getContext('2d');\n",
              "      \n",
              "      canvas.style=\"border:5px solid black;\"\n",
              "      canvas.height = 280;\n",
              "      canvas.width  = 280;\n",
              "      ctx.fillStyle = 'green';\n",
              "      ctx.fillRect(0, 0, canvas.width, canvas.height);\n",
              "\n",
              "      let painting =false;\n",
              "      function startPosition(e){\n",
              "          painting=true;\n",
              "          draw(e);\n",
              "      }\n",
              "      function finishedPosition(){\n",
              "          painting = false;\n",
              "          ctx.beginPath();\n",
              "      }\n",
              "      function draw(e){\n",
              "          if(!painting) return;\n",
              "          ctx.lineWidth=10;\n",
              "          ctx.lineCap - \"round\";\n",
              "          ctx.lineTo(e.clientX,e.clientY);\n",
              "          ctx.stroke();\n",
              "          /*ctx.beginPath();\n",
              "          ctx.moveTo(e.clientX,e.clientY);*/\n",
              "      }\n",
              "      canvas.addEventListener(\"mousedown\",startPosition);\n",
              "      canvas.addEventListener(\"mouseup\",finishedPosition);\n",
              "      canvas.addEventListener(\"mousemove\",draw);\n",
              "      function predict(){\n",
              "        print(\"called\")\n",
              "        img = canvas.toDataURL();\n",
              "        google.colab.kernel.invokeFunction('notebook.run_algo', [img], {});\n",
              "      }\n",
              "      const submit =  document.createElement('Button');\n",
              "      submit.innerText=\"Submit\";\n",
              "      submit.onClick=\"predict()\";\n",
              "      submit.addEventListener(\"click\",predict);\n",
              "      div.appendChild(submit);\n",
              "    }\n",
              "    "
            ],
            "text/plain": [
              "<IPython.core.display.Javascript object>"
            ]
          },
          "metadata": {
            "tags": []
          }
        },
        {
          "output_type": "display_data",
          "data": {
            "image/png": "[encoded data removed]",
            "text/plain": [
              "<PIL.Image.Image image mode=L size=128x128 at 0x7FB527E9D668>"
            ]
          },
          "metadata": {
            "tags": []
          }
        },
        {
          "output_type": "stream",
          "text": [
            "3 0.9999553\n"
          ],
          "name": "stdout"
        }
      ]
    },
    {
      "cell_type": "code",
      "metadata": {
        "id": "aHTef6BiDQIQ",
        "colab_type": "code",
        "colab": {
          "base_uri": "https://localhost:8080/",
          "height": 456
        },
        "outputId": "55e9faa3-17a4-4c3f-8927-a887246548ce"
      },
      "source": [
        "take_photo()"
      ],
      "execution_count": 44,
      "outputs": [
        {
          "output_type": "display_data",
          "data": {
            "application/javascript": [
              "\n",
              "    async function takePhoto(quality) {\n",
              "\n",
              "\n",
              "      const div = document.createElement('div');\n",
              "      \n",
              "      // show the video in the HTML element\n",
              "      document.body.appendChild(div);\n",
              "      \n",
              "      const canvas = document.createElement('canvas');\n",
              "      div.appendChild(canvas);\n",
              "      const ctx = canvas.getContext('2d');\n",
              "      \n",
              "      canvas.style=\"border:5px solid black;\"\n",
              "      canvas.height = 280;\n",
              "      canvas.width  = 280;\n",
              "      ctx.fillStyle = 'green';\n",
              "      ctx.fillRect(0, 0, canvas.width, canvas.height);\n",
              "\n",
              "      let painting =false;\n",
              "      function startPosition(e){\n",
              "          painting=true;\n",
              "          draw(e);\n",
              "      }\n",
              "      function finishedPosition(){\n",
              "          painting = false;\n",
              "          ctx.beginPath();\n",
              "      }\n",
              "      function draw(e){\n",
              "          if(!painting) return;\n",
              "          ctx.lineWidth=10;\n",
              "          ctx.lineCap - \"round\";\n",
              "          ctx.lineTo(e.clientX,e.clientY);\n",
              "          ctx.stroke();\n",
              "          /*ctx.beginPath();\n",
              "          ctx.moveTo(e.clientX,e.clientY);*/\n",
              "      }\n",
              "      canvas.addEventListener(\"mousedown\",startPosition);\n",
              "      canvas.addEventListener(\"mouseup\",finishedPosition);\n",
              "      canvas.addEventListener(\"mousemove\",draw);\n",
              "      function predict(){\n",
              "        print(\"called\")\n",
              "        img = canvas.toDataURL();\n",
              "        google.colab.kernel.invokeFunction('notebook.run_algo', [img], {});\n",
              "      }\n",
              "      const submit =  document.createElement('Button');\n",
              "      submit.innerText=\"Submit\";\n",
              "      submit.onClick=\"predict()\";\n",
              "      submit.addEventListener(\"click\",predict);\n",
              "      div.appendChild(submit);\n",
              "    }\n",
              "    "
            ],
            "text/plain": [
              "<IPython.core.display.Javascript object>"
            ]
          },
          "metadata": {
            "tags": []
          }
        },
        {
          "output_type": "display_data",
          "data": {
            "image/png": "[encoded data removed]",
            "text/plain": [
              "<PIL.Image.Image image mode=L size=128x128 at 0x7FB527E9D5F8>"
            ]
          },
          "metadata": {
            "tags": []
          }
        },
        {
          "output_type": "stream",
          "text": [
            "4 0.97120947\n"
          ],
          "name": "stdout"
        }
      ]
    },
    {
      "cell_type": "code",
      "metadata": {
        "id": "RpXzgqm_DQiA",
        "colab_type": "code",
        "colab": {
          "base_uri": "https://localhost:8080/",
          "height": 456
        },
        "outputId": "6e334a1a-6fcb-407c-8764-944cca90730c"
      },
      "source": [
        "take_photo()"
      ],
      "execution_count": 45,
      "outputs": [
        {
          "output_type": "display_data",
          "data": {
            "application/javascript": [
              "\n",
              "    async function takePhoto(quality) {\n",
              "\n",
              "\n",
              "      const div = document.createElement('div');\n",
              "      \n",
              "      // show the video in the HTML element\n",
              "      document.body.appendChild(div);\n",
              "      \n",
              "      const canvas = document.createElement('canvas');\n",
              "      div.appendChild(canvas);\n",
              "      const ctx = canvas.getContext('2d');\n",
              "      \n",
              "      canvas.style=\"border:5px solid black;\"\n",
              "      canvas.height = 280;\n",
              "      canvas.width  = 280;\n",
              "      ctx.fillStyle = 'green';\n",
              "      ctx.fillRect(0, 0, canvas.width, canvas.height);\n",
              "\n",
              "      let painting =false;\n",
              "      function startPosition(e){\n",
              "          painting=true;\n",
              "          draw(e);\n",
              "      }\n",
              "      function finishedPosition(){\n",
              "          painting = false;\n",
              "          ctx.beginPath();\n",
              "      }\n",
              "      function draw(e){\n",
              "          if(!painting) return;\n",
              "          ctx.lineWidth=10;\n",
              "          ctx.lineCap - \"round\";\n",
              "          ctx.lineTo(e.clientX,e.clientY);\n",
              "          ctx.stroke();\n",
              "          /*ctx.beginPath();\n",
              "          ctx.moveTo(e.clientX,e.clientY);*/\n",
              "      }\n",
              "      canvas.addEventListener(\"mousedown\",startPosition);\n",
              "      canvas.addEventListener(\"mouseup\",finishedPosition);\n",
              "      canvas.addEventListener(\"mousemove\",draw);\n",
              "      function predict(){\n",
              "        print(\"called\")\n",
              "        img = canvas.toDataURL();\n",
              "        google.colab.kernel.invokeFunction('notebook.run_algo', [img], {});\n",
              "      }\n",
              "      const submit =  document.createElement('Button');\n",
              "      submit.innerText=\"Submit\";\n",
              "      submit.onClick=\"predict()\";\n",
              "      submit.addEventListener(\"click\",predict);\n",
              "      div.appendChild(submit);\n",
              "    }\n",
              "    "
            ],
            "text/plain": [
              "<IPython.core.display.Javascript object>"
            ]
          },
          "metadata": {
            "tags": []
          }
        },
        {
          "output_type": "display_data",
          "data": {
            "image/png": "[encoded data removed]",
            "text/plain": [
              "<PIL.Image.Image image mode=L size=128x128 at 0x7FB527E9D748>"
            ]
          },
          "metadata": {
            "tags": []
          }
        },
        {
          "output_type": "stream",
          "text": [
            "5 0.9999989\n"
          ],
          "name": "stdout"
        }
      ]
    },
    {
      "cell_type": "code",
      "metadata": {
        "id": "fyxy1dq7DQ1X",
        "colab_type": "code",
        "colab": {
          "base_uri": "https://localhost:8080/",
          "height": 456
        },
        "outputId": "6473d960-28b7-45fc-a7a4-5c5647f6c279"
      },
      "source": [
        "take_photo()"
      ],
      "execution_count": 46,
      "outputs": [
        {
          "output_type": "display_data",
          "data": {
            "application/javascript": [
              "\n",
              "    async function takePhoto(quality) {\n",
              "\n",
              "\n",
              "      const div = document.createElement('div');\n",
              "      \n",
              "      // show the video in the HTML element\n",
              "      document.body.appendChild(div);\n",
              "      \n",
              "      const canvas = document.createElement('canvas');\n",
              "      div.appendChild(canvas);\n",
              "      const ctx = canvas.getContext('2d');\n",
              "      \n",
              "      canvas.style=\"border:5px solid black;\"\n",
              "      canvas.height = 280;\n",
              "      canvas.width  = 280;\n",
              "      ctx.fillStyle = 'green';\n",
              "      ctx.fillRect(0, 0, canvas.width, canvas.height);\n",
              "\n",
              "      let painting =false;\n",
              "      function startPosition(e){\n",
              "          painting=true;\n",
              "          draw(e);\n",
              "      }\n",
              "      function finishedPosition(){\n",
              "          painting = false;\n",
              "          ctx.beginPath();\n",
              "      }\n",
              "      function draw(e){\n",
              "          if(!painting) return;\n",
              "          ctx.lineWidth=10;\n",
              "          ctx.lineCap - \"round\";\n",
              "          ctx.lineTo(e.clientX,e.clientY);\n",
              "          ctx.stroke();\n",
              "          /*ctx.beginPath();\n",
              "          ctx.moveTo(e.clientX,e.clientY);*/\n",
              "      }\n",
              "      canvas.addEventListener(\"mousedown\",startPosition);\n",
              "      canvas.addEventListener(\"mouseup\",finishedPosition);\n",
              "      canvas.addEventListener(\"mousemove\",draw);\n",
              "      function predict(){\n",
              "        print(\"called\")\n",
              "        img = canvas.toDataURL();\n",
              "        google.colab.kernel.invokeFunction('notebook.run_algo', [img], {});\n",
              "      }\n",
              "      const submit =  document.createElement('Button');\n",
              "      submit.innerText=\"Submit\";\n",
              "      submit.onClick=\"predict()\";\n",
              "      submit.addEventListener(\"click\",predict);\n",
              "      div.appendChild(submit);\n",
              "    }\n",
              "    "
            ],
            "text/plain": [
              "<IPython.core.display.Javascript object>"
            ]
          },
          "metadata": {
            "tags": []
          }
        },
        {
          "output_type": "display_data",
          "data": {
            "image/png": "[encoded data removed]",
            "text/plain": [
              "<PIL.Image.Image image mode=L size=128x128 at 0x7FB527E9D748>"
            ]
          },
          "metadata": {
            "tags": []
          }
        },
        {
          "output_type": "stream",
          "text": [
            "6 0.99988914\n"
          ],
          "name": "stdout"
        }
      ]
    },
    {
      "cell_type": "code",
      "metadata": {
        "id": "VGJo2PSQDW2P",
        "colab_type": "code",
        "colab": {
          "base_uri": "https://localhost:8080/",
          "height": 456
        },
        "outputId": "fd049d6f-8b58-4b8e-b6d5-ab1ed12ee54a"
      },
      "source": [
        "take_photo()"
      ],
      "execution_count": 47,
      "outputs": [
        {
          "output_type": "display_data",
          "data": {
            "application/javascript": [
              "\n",
              "    async function takePhoto(quality) {\n",
              "\n",
              "\n",
              "      const div = document.createElement('div');\n",
              "      \n",
              "      // show the video in the HTML element\n",
              "      document.body.appendChild(div);\n",
              "      \n",
              "      const canvas = document.createElement('canvas');\n",
              "      div.appendChild(canvas);\n",
              "      const ctx = canvas.getContext('2d');\n",
              "      \n",
              "      canvas.style=\"border:5px solid black;\"\n",
              "      canvas.height = 280;\n",
              "      canvas.width  = 280;\n",
              "      ctx.fillStyle = 'green';\n",
              "      ctx.fillRect(0, 0, canvas.width, canvas.height);\n",
              "\n",
              "      let painting =false;\n",
              "      function startPosition(e){\n",
              "          painting=true;\n",
              "          draw(e);\n",
              "      }\n",
              "      function finishedPosition(){\n",
              "          painting = false;\n",
              "          ctx.beginPath();\n",
              "      }\n",
              "      function draw(e){\n",
              "          if(!painting) return;\n",
              "          ctx.lineWidth=10;\n",
              "          ctx.lineCap - \"round\";\n",
              "          ctx.lineTo(e.clientX,e.clientY);\n",
              "          ctx.stroke();\n",
              "          /*ctx.beginPath();\n",
              "          ctx.moveTo(e.clientX,e.clientY);*/\n",
              "      }\n",
              "      canvas.addEventListener(\"mousedown\",startPosition);\n",
              "      canvas.addEventListener(\"mouseup\",finishedPosition);\n",
              "      canvas.addEventListener(\"mousemove\",draw);\n",
              "      function predict(){\n",
              "        print(\"called\")\n",
              "        img = canvas.toDataURL();\n",
              "        google.colab.kernel.invokeFunction('notebook.run_algo', [img], {});\n",
              "      }\n",
              "      const submit =  document.createElement('Button');\n",
              "      submit.innerText=\"Submit\";\n",
              "      submit.onClick=\"predict()\";\n",
              "      submit.addEventListener(\"click\",predict);\n",
              "      div.appendChild(submit);\n",
              "    }\n",
              "    "
            ],
            "text/plain": [
              "<IPython.core.display.Javascript object>"
            ]
          },
          "metadata": {
            "tags": []
          }
        },
        {
          "output_type": "display_data",
          "data": {
            "image/png": "[encoded data removed]",
            "text/plain": [
              "<PIL.Image.Image image mode=L size=128x128 at 0x7FB527E9D5F8>"
            ]
          },
          "metadata": {
            "tags": []
          }
        },
        {
          "output_type": "stream",
          "text": [
            "7 0.95487106\n"
          ],
          "name": "stdout"
        }
      ]
    },
    {
      "cell_type": "code",
      "metadata": {
        "id": "N7vt29tCDXDO",
        "colab_type": "code",
        "colab": {
          "base_uri": "https://localhost:8080/",
          "height": 456
        },
        "outputId": "a4b78f4a-5dd4-4a4e-90b8-654342bdb76b"
      },
      "source": [
        "take_photo()"
      ],
      "execution_count": 48,
      "outputs": [
        {
          "output_type": "display_data",
          "data": {
            "application/javascript": [
              "\n",
              "    async function takePhoto(quality) {\n",
              "\n",
              "\n",
              "      const div = document.createElement('div');\n",
              "      \n",
              "      // show the video in the HTML element\n",
              "      document.body.appendChild(div);\n",
              "      \n",
              "      const canvas = document.createElement('canvas');\n",
              "      div.appendChild(canvas);\n",
              "      const ctx = canvas.getContext('2d');\n",
              "      \n",
              "      canvas.style=\"border:5px solid black;\"\n",
              "      canvas.height = 280;\n",
              "      canvas.width  = 280;\n",
              "      ctx.fillStyle = 'green';\n",
              "      ctx.fillRect(0, 0, canvas.width, canvas.height);\n",
              "\n",
              "      let painting =false;\n",
              "      function startPosition(e){\n",
              "          painting=true;\n",
              "          draw(e);\n",
              "      }\n",
              "      function finishedPosition(){\n",
              "          painting = false;\n",
              "          ctx.beginPath();\n",
              "      }\n",
              "      function draw(e){\n",
              "          if(!painting) return;\n",
              "          ctx.lineWidth=10;\n",
              "          ctx.lineCap - \"round\";\n",
              "          ctx.lineTo(e.clientX,e.clientY);\n",
              "          ctx.stroke();\n",
              "          /*ctx.beginPath();\n",
              "          ctx.moveTo(e.clientX,e.clientY);*/\n",
              "      }\n",
              "      canvas.addEventListener(\"mousedown\",startPosition);\n",
              "      canvas.addEventListener(\"mouseup\",finishedPosition);\n",
              "      canvas.addEventListener(\"mousemove\",draw);\n",
              "      function predict(){\n",
              "        print(\"called\")\n",
              "        img = canvas.toDataURL();\n",
              "        google.colab.kernel.invokeFunction('notebook.run_algo', [img], {});\n",
              "      }\n",
              "      const submit =  document.createElement('Button');\n",
              "      submit.innerText=\"Submit\";\n",
              "      submit.onClick=\"predict()\";\n",
              "      submit.addEventListener(\"click\",predict);\n",
              "      div.appendChild(submit);\n",
              "    }\n",
              "    "
            ],
            "text/plain": [
              "<IPython.core.display.Javascript object>"
            ]
          },
          "metadata": {
            "tags": []
          }
        },
        {
          "output_type": "display_data",
          "data": {
            "image/png": "[encoded data removed]",
            "text/plain": [
              "<PIL.Image.Image image mode=L size=128x128 at 0x7FB527E9DB00>"
            ]
          },
          "metadata": {
            "tags": []
          }
        },
        {
          "output_type": "stream",
          "text": [
            "8 0.99993384\n"
          ],
          "name": "stdout"
        }
      ]
    },
    {
      "cell_type": "code",
      "metadata": {
        "id": "ntoIbdL8DXPt",
        "colab_type": "code",
        "colab": {
          "base_uri": "https://localhost:8080/",
          "height": 456
        },
        "outputId": "fcc75eaa-3b1e-4baa-9994-97032df8138b"
      },
      "source": [
        "take_photo()"
      ],
      "execution_count": 49,
      "outputs": [
        {
          "output_type": "display_data",
          "data": {
            "application/javascript": [
              "\n",
              "    async function takePhoto(quality) {\n",
              "\n",
              "\n",
              "      const div = document.createElement('div');\n",
              "      \n",
              "      // show the video in the HTML element\n",
              "      document.body.appendChild(div);\n",
              "      \n",
              "      const canvas = document.createElement('canvas');\n",
              "      div.appendChild(canvas);\n",
              "      const ctx = canvas.getContext('2d');\n",
              "      \n",
              "      canvas.style=\"border:5px solid black;\"\n",
              "      canvas.height = 280;\n",
              "      canvas.width  = 280;\n",
              "      ctx.fillStyle = 'green';\n",
              "      ctx.fillRect(0, 0, canvas.width, canvas.height);\n",
              "\n",
              "      let painting =false;\n",
              "      function startPosition(e){\n",
              "          painting=true;\n",
              "          draw(e);\n",
              "      }\n",
              "      function finishedPosition(){\n",
              "          painting = false;\n",
              "          ctx.beginPath();\n",
              "      }\n",
              "      function draw(e){\n",
              "          if(!painting) return;\n",
              "          ctx.lineWidth=10;\n",
              "          ctx.lineCap - \"round\";\n",
              "          ctx.lineTo(e.clientX,e.clientY);\n",
              "          ctx.stroke();\n",
              "          /*ctx.beginPath();\n",
              "          ctx.moveTo(e.clientX,e.clientY);*/\n",
              "      }\n",
              "      canvas.addEventListener(\"mousedown\",startPosition);\n",
              "      canvas.addEventListener(\"mouseup\",finishedPosition);\n",
              "      canvas.addEventListener(\"mousemove\",draw);\n",
              "      function predict(){\n",
              "        print(\"called\")\n",
              "        img = canvas.toDataURL();\n",
              "        google.colab.kernel.invokeFunction('notebook.run_algo', [img], {});\n",
              "      }\n",
              "      const submit =  document.createElement('Button');\n",
              "      submit.innerText=\"Submit\";\n",
              "      submit.onClick=\"predict()\";\n",
              "      submit.addEventListener(\"click\",predict);\n",
              "      div.appendChild(submit);\n",
              "    }\n",
              "    "
            ],
            "text/plain": [
              "<IPython.core.display.Javascript object>"
            ]
          },
          "metadata": {
            "tags": []
          }
        },
        {
          "output_type": "display_data",
          "data": {
            "image/png": "[encoded data removed]",
            "text/plain": [
              "<PIL.Image.Image image mode=L size=128x128 at 0x7FB527E9D8D0>"
            ]
          },
          "metadata": {
            "tags": []
          }
        },
        {
          "output_type": "stream",
          "text": [
            "9 0.99999905\n"
          ],
          "name": "stdout"
        }
      ]
    },
    {
      "cell_type": "code",
      "metadata": {
        "id": "fOeSrPcvDXei",
        "colab_type": "code",
        "colab": {}
      },
      "source": [
        ""
      ],
      "execution_count": 0,
      "outputs": []
    }
  ]
}
